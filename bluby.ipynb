{
 "cells": [
  {
   "cell_type": "markdown",
   "metadata": {},
   "source": [
    "## TUGAS BESAR SISTEM/TEKNOLOGI MULTIMEDIA"
   ]
  },
  {
   "cell_type": "markdown",
   "metadata": {},
   "source": [
    "```\n",
    "Nama    : \n",
    "    > Vania Angelica            121140042\n",
    "    > Natasya Ate Malem Bangun  121140052\n",
    "    > Marchell Aly Kumala       121140145 "
   ]
  },
  {
   "cell_type": "markdown",
   "metadata": {},
   "source": [
    "---"
   ]
  },
  {
   "cell_type": "markdown",
   "metadata": {},
   "source": [
    "``` \n",
    "Kodingan ini masi bersifat kasar (sketch)"
   ]
  },
  {
   "cell_type": "code",
   "execution_count": 2,
   "metadata": {},
   "outputs": [
    {
     "ename": "ModuleNotFoundError",
     "evalue": "No module named 'mediapipe'",
     "output_type": "error",
     "traceback": [
      "\u001b[1;31m---------------------------------------------------------------------------\u001b[0m",
      "\u001b[1;31mModuleNotFoundError\u001b[0m                       Traceback (most recent call last)",
      "Cell \u001b[1;32mIn[2], line 4\u001b[0m\n\u001b[0;32m      1\u001b[0m \u001b[38;5;66;03m#library \u001b[39;00m\n\u001b[0;32m      3\u001b[0m \u001b[38;5;28;01mimport\u001b[39;00m \u001b[38;5;21;01mcv2\u001b[39;00m                                                                      \u001b[38;5;66;03m# OpenCV, sebuah pustaka untuk pemrosesan gambar dan video.\u001b[39;00m\n\u001b[1;32m----> 4\u001b[0m \u001b[38;5;28;01mimport\u001b[39;00m \u001b[38;5;21;01mmediapipe\u001b[39;00m \u001b[38;5;28;01mas\u001b[39;00m \u001b[38;5;21;01mmp\u001b[39;00m                                                          \u001b[38;5;66;03m# MediaPipe, pustaka untuk pemrosesan media seperti deteksi wajah, tangan, dll.\u001b[39;00m\n\u001b[0;32m      5\u001b[0m \u001b[38;5;28;01mfrom\u001b[39;00m \u001b[38;5;21;01mpydub\u001b[39;00m \u001b[38;5;28;01mimport\u001b[39;00m AudioSegment                                                  \u001b[38;5;66;03m# AudioSegment dari pydub, pustaka untuk memanipulasi file audio.\u001b[39;00m\n\u001b[0;32m      6\u001b[0m \u001b[38;5;28;01mimport\u001b[39;00m \u001b[38;5;21;01mlibrosa\u001b[39;00m                                                                  \u001b[38;5;66;03m# librosa, pustaka untuk analisis dan pemrosesan audio.\u001b[39;00m\n",
      "\u001b[1;31mModuleNotFoundError\u001b[0m: No module named 'mediapipe'"
     ]
    }
   ],
   "source": [
    "#library \n",
    "\n",
    "import cv2                                                                      # OpenCV, sebuah pustaka untuk pemrosesan gambar dan video.\n",
    "import mediapipe as mp                                                          # MediaPipe, pustaka untuk pemrosesan media seperti deteksi wajah, tangan, dll.\n",
    "from pydub import AudioSegment                                                  # AudioSegment dari pydub, pustaka untuk memanipulasi file audio.\n",
    "import librosa                                                                  # librosa, pustaka untuk analisis dan pemrosesan audio.\n",
    "from moviepy.editor import VideoFileClip, AudioFileClip, CompositeVideoClip     # kelas-kelas dari moviepy untuk mengedit video dan audio."
   ]
  },
  {
   "cell_type": "markdown",
   "metadata": {},
   "source": [
    "#### KODINGAN 1"
   ]
  },
  {
   "cell_type": "code",
   "execution_count": 3,
   "metadata": {},
   "outputs": [
    {
     "ename": "NameError",
     "evalue": "name 'mp' is not defined",
     "output_type": "error",
     "traceback": [
      "\u001b[1;31m---------------------------------------------------------------------------\u001b[0m",
      "\u001b[1;31mNameError\u001b[0m                                 Traceback (most recent call last)",
      "Cell \u001b[1;32mIn[3], line 2\u001b[0m\n\u001b[0;32m      1\u001b[0m \u001b[38;5;66;03m# Inisialisasi MediaPipe Face Detection\u001b[39;00m\n\u001b[1;32m----> 2\u001b[0m mp_face_detection \u001b[38;5;241m=\u001b[39m \u001b[43mmp\u001b[49m\u001b[38;5;241m.\u001b[39msolutions\u001b[38;5;241m.\u001b[39mface_detection                                                         \u001b[38;5;66;03m# Menginisialisasi deteksi wajah menggunakan MediaPipe\u001b[39;00m\n\u001b[0;32m      3\u001b[0m face_detection \u001b[38;5;241m=\u001b[39m mp_face_detection\u001b[38;5;241m.\u001b[39mFaceDetection(model_selection\u001b[38;5;241m=\u001b[39m\u001b[38;5;241m1\u001b[39m, min_detection_confidence\u001b[38;5;241m=\u001b[39m\u001b[38;5;241m0.5\u001b[39m)       \u001b[38;5;66;03m# Menginisialisasi deteksi wajah menggunakan MediaPipe dengan model pilihan 1 dan kepercayaan deteksi minimal 0.5\u001b[39;00m\n\u001b[0;32m      5\u001b[0m \u001b[38;5;66;03m# Fungsi untuk menerapkan filter oceanic pada frame\u001b[39;00m\n",
      "\u001b[1;31mNameError\u001b[0m: name 'mp' is not defined"
     ]
    }
   ],
   "source": [
    "# Inisialisasi MediaPipe Face Detection\n",
    "mp_face_detection = mp.solutions.face_detection                                                         # Menginisialisasi deteksi wajah menggunakan MediaPipe\n",
    "face_detection = mp_face_detection.FaceDetection(model_selection=1, min_detection_confidence=0.5)       # Menginisialisasi deteksi wajah menggunakan MediaPipe dengan model pilihan 1 dan kepercayaan deteksi minimal 0.5\n",
    "\n",
    "# Fungsi untuk menerapkan filter oceanic pada frame\n",
    "def apply_oceanic_filter(frame):\n",
    "    # Mengubah frame ke RGB\n",
    "    rgb_frame = cv2.cvtColor(frame, cv2.COLOR_BGR2RGB)                      # Mengubah warna frame dari BGR ke RGB untuk kompatibilitas dengan MediaPipe\n",
    "\n",
    "    # Mendeteksi wajah \n",
    "    results = face_detection.process(rgb_frame)                             # Memproses frame RGB untuk mendeteksi wajah menggunakan detektor wajah yang telah diinisialisasi\n",
    "\n",
    "    # Menerapkan tint biru\n",
    "    blue_tint = cv2.applyColorMap(frame, cv2.COLORMAP_OCEAN)                # Menerapkan tint biru pada frame menggunakan peta warna COLORMAP_OCEAN\n",
    "\n",
    "    # Jika wajah terdeteksi, terapkan efek tambahan\n",
    "    if results.detections:\n",
    "        # Menghitung koordinat dan ukuran bounding box wajah\n",
    "        for detection in results.detections:                                # Iterasi melalui semua deteksi wajah yang ditemukan\n",
    "            bboxC = detection.location_data.relative_bounding_box           # Mendapatkan kotak pembatas relatif dari deteksi wajah\n",
    "            ih, iw, _ = frame.shape                                         # Mendapatkan dimensi frame              \n",
    "            (x, y, w, h) = (int(bboxC.xmin * iw), int(bboxC.ymin * ih),     # Menghitung koordinat dan ukuran bounding box wajah dalam piksel\n",
    "                            int(bboxC.width * iw), int(bboxC.height * ih))  # Mengubah koordinat dan ukuran bounding box dari relatif ke piksel\n",
    "            \n",
    "\n",
    "            # Menerapkan blur ringan pada area wajah (Menerapkan blur Gaussian pada area wajah dan menggantinya di frame asli)\n",
    "            face = frame[y:y+h, x:x+w]                                      # Mendapatkan area wajah dari frame                           \n",
    "            face = cv2.GaussianBlur(face, (99, 99), 30)                     # Menerapkan blur Gaussian pada area wajah\n",
    "            frame[y:y+h, x:x+w] = face                                      # Menggantikan area wajah dengan area wajah yang telah di-blur\n",
    "\n",
    "    return blue_tint    # Mengembalikan frame dengan tint biru  dan efek tambahan yang diterapkan\n",
    "    \n",
    "# Contoh penggunaan dengan file video, menentukan jalur input dan output video\n",
    "input_video_path = 'input_video.mp4'                                        # Menentukan jalur file video input\n",
    "output_video_path = 'output_video.mp4'                                      # Menentukan jalur file video output                          \n",
    "\n",
    "# Memuat video, membuka video input dan menyiapkan video output dengan codec mp4v dan frame rate 30 fps\n",
    "cap = cv2.VideoCapture(input_video_path)                                    # Membuka file video input                 \n",
    "fourcc = cv2.VideoWriter_fourcc(*'mp4v')                                    # Mendefinisikan codec video mp4v\n",
    "out = cv2.VideoWriter(output_video_path, fourcc, 30.0, (int(cap.get(3)), int(cap.get(4))))      # Membuat video output dengan codec mp4v, frame rate 30 fps, dan ukuran frame yang sama dengan video input\n",
    "\n",
    "while cap.isOpened():                                                       # Looping untuk membaca setiap frame dari video input\n",
    "    # Membaca frame dari video\n",
    "    ret, frame = cap.read()                                                 # Membaca frame dari video input\n",
    "    if not ret:                                                             # Jika tidak ada frame yang tersedia, keluar dari loop\n",
    "        break                                                               # Keluar dari loop\n",
    "\n",
    "    # Menerapkan filter oceanic\n",
    "    filtered_frame = apply_oceanic_filter(frame)                            # Menerapkan filter oceanic pada frame\n",
    "\n",
    "    # Menyimpan frame yang telah difilter ke video output\n",
    "    out.write(filtered_frame)                                               # Menyimpan frame yang telah difilter ke video output\n",
    "\n",
    "# Menutup video input dan output\n",
    "cap.release()       \n",
    "out.release()\n",
    "\n",
    "# Memuat dan memproses audio (masih dalam bentuk pengembangan lagi)\n",
    "input_audio_path = 'input_audio.mp3'                # Menentukan jalur file audio input\n",
    "output_audio_path = 'output_audio.mp3'              # Menentukan jalur file audio output\n",
    "audio = AudioSegment.from_file(input_audio_path)    # Memuat file audio input\n",
    "\n",
    "# Menerapkan efek audio (misalnya, reverb, echo)\n",
    "# Menyimpan audio yang telah diproses\n",
    "audio.export(output_audio_path, format='mp3')       # Menyimpan audio yang telah diproses ke file output\n",
    "\n",
    "# Menggabungkan video dan audio\n",
    "video_clip = VideoFileClip(output_video_path)                                       # Memuat file video output                         \n",
    "audio_clip = AudioFileClip(output_audio_path)                                       # Memuat file audio output\n",
    "final_clip = video_clip.set_audio(audio_clip)                                       # Menggabungkan video dan audio menjadi satu file output final\n",
    "final_clip.write_videofile('final_output.mp4', codec='libx264', audio_codec='aac')  # Menggabungkan video dan audio menjadi satu file output final\n"
   ]
  },
  {
   "cell_type": "markdown",
   "metadata": {},
   "source": [
    "#### KODINGAN 2"
   ]
  },
  {
   "cell_type": "code",
   "execution_count": null,
   "metadata": {},
   "outputs": [],
   "source": [
    "import cv2\n",
    "import mediapipe as mp\n",
    "import numpy as np\n",
    "from pydub import AudioSegment\n",
    "import pyaudio\n",
    "\n",
    "# 1. Initialize face detection with MediaPipe\n",
    "mp_face_detection = mp.solutions.face_detection\n",
    "mp_drawing = mp.solutions.drawing_utils\n",
    "face_detection = mp_face_detection.FaceDetection(min_detection_confidence=0.2)\n",
    "\n",
    "# 2. Open the webcam feed\n",
    "cap = cv2.VideoCapture(0)\n",
    "\n",
    "# 3. Function to apply an underwater effect (blur and tint)\n",
    "def apply_underwater_effect(frame):\n",
    "    # Apply a blue-green tint to simulate underwater\n",
    "    tinted = cv2.applyColorMap(frame, cv2.COLORMAP_OCEAN)\n",
    "    # Apply a blur to simulate underwater distortion\n",
    "    blurred = cv2.GaussianBlur(tinted, (15, 15), 0)\n",
    "    return blurred\n",
    "\n",
    "# 4. Start capturing frames\n",
    "while True:\n",
    "    ret, frame = cap.read()\n",
    "    if not ret:\n",
    "        break\n",
    "    \n",
    "    # Convert the frame to RGB for MediaPipe\n",
    "    rgb_frame = cv2.cvtColor(frame, cv2.COLOR_BGR2RGB)\n",
    "    results = face_detection.process(rgb_frame)\n",
    "    \n",
    "    if results.detections:\n",
    "        for detection in results.detections:\n",
    "            mp_drawing.draw_detection(frame, detection)\n",
    "\n",
    "    # Apply the underwater effect\n",
    "    frame = apply_underwater_effect(frame)\n",
    "\n",
    "    # Display the resulting frame\n",
    "    cv2.imshow('Underwater Effect', frame)\n",
    "\n",
    "    if cv2.waitKey(1) & 0xFF == ord('q'):\n",
    "        break\n",
    "\n",
    "# Release the webcam and close windows\n",
    "cap.release()\n",
    "cv2.destroyAllWindows()"
   ]
  },
  {
   "cell_type": "markdown",
   "metadata": {},
   "source": [
    "#### Kumpulan Kodingan Efek"
   ]
  },
  {
   "cell_type": "markdown",
   "metadata": {},
   "source": [
    "##### **Interaktif dengan Kamera (Live Feed)**"
   ]
  },
  {
   "cell_type": "code",
   "execution_count": 1,
   "metadata": {},
   "outputs": [
    {
     "ename": "NameError",
     "evalue": "name 'cv2' is not defined",
     "output_type": "error",
     "traceback": [
      "\u001b[1;31m---------------------------------------------------------------------------\u001b[0m",
      "\u001b[1;31mNameError\u001b[0m                                 Traceback (most recent call last)",
      "Cell \u001b[1;32mIn[1], line 2\u001b[0m\n\u001b[0;32m      1\u001b[0m \u001b[38;5;66;03m# Menggunakan kamera sebagai input\u001b[39;00m\n\u001b[1;32m----> 2\u001b[0m cap \u001b[38;5;241m=\u001b[39m \u001b[43mcv2\u001b[49m\u001b[38;5;241m.\u001b[39mVideoCapture(\u001b[38;5;241m0\u001b[39m)                   \u001b[38;5;66;03m# 0 untuk kamera default\u001b[39;00m\n\u001b[0;32m      3\u001b[0m \u001b[38;5;28;01mwhile\u001b[39;00m cap\u001b[38;5;241m.\u001b[39misOpened():\n\u001b[0;32m      4\u001b[0m     ret, frame \u001b[38;5;241m=\u001b[39m cap\u001b[38;5;241m.\u001b[39mread()\n",
      "\u001b[1;31mNameError\u001b[0m: name 'cv2' is not defined"
     ]
    }
   ],
   "source": [
    "# Menggunakan kamera sebagai input\n",
    "cap = cv2.VideoCapture(0)                   # 0 untuk kamera default\n",
    "while cap.isOpened():\n",
    "    ret, frame = cap.read()\n",
    "    if not ret:\n",
    "        break\n",
    "    filtered_frame = apply_oceanic_filter(frame)\n",
    "    cv2.imshow('Oceanic Filter', filtered_frame)\n",
    "    if cv2.waitKey(1) & 0xFF == ord('q'):   # Tekan 'q' untuk keluar\n",
    "        break\n",
    "cap.release()\n",
    "cv2.destroyAllWindows()"
   ]
  },
  {
   "cell_type": "markdown",
   "metadata": {},
   "source": [
    "##### **Customisasi Filter**"
   ]
  },
  {
   "cell_type": "code",
   "execution_count": null,
   "metadata": {},
   "outputs": [],
   "source": [
    "def apply_oceanic_filter(frame, blue_intensity=0.5, blur_intensity=30):\n",
    "    blue_tint = cv2.addWeighted(frame, 1 - blue_intensity, \n",
    "                                cv2.applyColorMap(frame, cv2.COLORMAP_OCEAN), \n",
    "                                blue_intensity, 0)\n",
    "    # Sesuaikan tingkat blur\n",
    "    blur = (blur_intensity, blur_intensity)\n",
    "    frame = cv2.GaussianBlur(blue_tint, blur, 30)\n",
    "    return frame"
   ]
  },
  {
   "cell_type": "markdown",
   "metadata": {},
   "source": [
    "##### **Deteksi Objek Lain**"
   ]
  },
  {
   "cell_type": "code",
   "execution_count": null,
   "metadata": {},
   "outputs": [],
   "source": [
    "mp_holistic = mp.solutions.holistic\n",
    "holistic = mp_holistic.Holistic(min_detection_confidence=0.5, min_tracking_confidence=0.5)\n",
    "\n",
    "def apply_body_detection_filter(frame):\n",
    "    rgb_frame = cv2.cvtColor(frame, cv2.COLOR_BGR2RGB)\n",
    "    results = holistic.process(rgb_frame)\n",
    "    if results.pose_landmarks:\n",
    "        for landmark in results.pose_landmarks.landmark:\n",
    "            x, y = int(landmark.x * frame.shape[1]), int(landmark.y * frame.shape[0])\n",
    "            cv2.circle(frame, (x, y), 5, (255, 0, 0), -1)\n",
    "    return frame\n"
   ]
  },
  {
   "cell_type": "markdown",
   "metadata": {},
   "source": [
    "##### **Sinkronisasi Audio dengan Efek Visual**"
   ]
  },
  {
   "cell_type": "code",
   "execution_count": null,
   "metadata": {},
   "outputs": [],
   "source": [
    "import librosa\n",
    "\n",
    "def get_audio_amplitude(audio_path):\n",
    "    y, sr = librosa.load(audio_path)\n",
    "    amplitudes = librosa.feature.rms(y=y)\n",
    "    return amplitudes[0]"
   ]
  },
  {
   "cell_type": "code",
   "execution_count": null,
   "metadata": {},
   "outputs": [],
   "source": [
    "import numpy as np\n",
    "\n",
    "def audio_visual_sync(frame, audio_amplitude):\n",
    "    alpha = min(1, audio_amplitude / 100)  # Skala amplitudo\n",
    "    effect = cv2.applyColorMap(frame, cv2.COLORMAP_JET)\n",
    "    synced_frame = cv2.addWeighted(frame, 1 - alpha, effect, alpha, 0)\n",
    "    return synced_frame"
   ]
  },
  {
   "cell_type": "markdown",
   "metadata": {},
   "source": [
    "##### **Watermark**"
   ]
  },
  {
   "cell_type": "code",
   "execution_count": null,
   "metadata": {},
   "outputs": [],
   "source": [
    "def add_watermark(frame, text=\"BLUBY\", position=(10, 50)):\n",
    "    font = cv2.FONT_HERSHEY_SIMPLEX\n",
    "    cv2.putText(frame, text, position, font, 1, (255, 255, 255), 2, cv2.LINE_AA)\n",
    "    return frame"
   ]
  },
  {
   "cell_type": "markdown",
   "metadata": {},
   "source": [
    "##### **GUI**"
   ]
  },
  {
   "cell_type": "code",
   "execution_count": null,
   "metadata": {},
   "outputs": [],
   "source": [
    "from tkinter import Tk, filedialog\n",
    "\n",
    "def browse_file():\n",
    "    Tk().withdraw()  # Menyembunyikan jendela utama Tkinter\n",
    "    file_path = filedialog.askopenfilename()\n",
    "    return file_path\n",
    "\n",
    "input_video_path = browse_file()"
   ]
  },
  {
   "cell_type": "markdown",
   "metadata": {},
   "source": [
    "##### **Peningkatan Output Video**"
   ]
  },
  {
   "cell_type": "code",
   "execution_count": null,
   "metadata": {},
   "outputs": [],
   "source": [
    "def set_resolution(cap, width, height):\n",
    "    cap.set(3, width)\n",
    "    cap.set(4, height)"
   ]
  }
 ],
 "metadata": {
  "kernelspec": {
   "display_name": "mulmed_orce",
   "language": "python",
   "name": "python3"
  },
  "language_info": {
   "codemirror_mode": {
    "name": "ipython",
    "version": 3
   },
   "file_extension": ".py",
   "mimetype": "text/x-python",
   "name": "python",
   "nbconvert_exporter": "python",
   "pygments_lexer": "ipython3",
   "version": "3.10.15"
  }
 },
 "nbformat": 4,
 "nbformat_minor": 2
}
