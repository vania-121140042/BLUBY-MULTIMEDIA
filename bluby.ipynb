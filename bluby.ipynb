{
 "cells": [
  {
   "cell_type": "markdown",
   "metadata": {},
   "source": [
    "## TUGAS BESAR SISTEM/TEKNOLOGI MULTIMEDIA"
   ]
  },
  {
   "cell_type": "markdown",
   "metadata": {},
   "source": [
    "```\n",
    "Nama    : \n",
    "    > Vania Angelica            121140042\n",
    "    > Natasya Ate Malem Bangun  121140052\n",
    "    > Marchell Aly Kumala       121140145 "
   ]
  },
  {
   "cell_type": "markdown",
   "metadata": {},
   "source": [
    "---"
   ]
  },
  {
   "cell_type": "markdown",
   "metadata": {},
   "source": [
    "``` \n",
    "Kodingan ini masi bersifat kasar (sketch)"
   ]
  },
  {
   "cell_type": "code",
   "execution_count": null,
   "metadata": {},
   "outputs": [],
   "source": [
    "#library \n",
    "\n",
    "import cv2                                                                      # OpenCV, sebuah pustaka untuk pemrosesan gambar dan video.\n",
    "import mediapipe as mp                                                          # MediaPipe, pustaka untuk pemrosesan media seperti deteksi wajah, tangan, dll.\n",
    "from pydub import AudioSegment                                                  # AudioSegment dari pydub, pustaka untuk memanipulasi file audio.\n",
    "import librosa                                                                  # librosa, pustaka untuk analisis dan pemrosesan audio.\n",
    "from moviepy.editor import VideoFileClip, AudioFileClip, CompositeVideoClip     # kelas-kelas dari moviepy untuk mengedit video dan audio."
   ]
  },
  {
   "cell_type": "code",
   "execution_count": null,
   "metadata": {},
   "outputs": [],
   "source": [
    "# Inisialisasi MediaPipe Face Detection\n",
    "mp_face_detection = mp.solutions.face_detection                                                         # Menginisialisasi deteksi wajah menggunakan MediaPipe\n",
    "face_detection = mp_face_detection.FaceDetection(model_selection=1, min_detection_confidence=0.5)       # Menginisialisasi deteksi wajah menggunakan MediaPipe dengan model pilihan 1 dan kepercayaan deteksi minimal 0.5\n",
    "\n",
    "# Fungsi untuk menerapkan filter oceanic pada frame\n",
    "def apply_oceanic_filter(frame):\n",
    "    # Mengubah frame ke RGB\n",
    "    rgb_frame = cv2.cvtColor(frame, cv2.COLOR_BGR2RGB)                      # Mengubah warna frame dari BGR ke RGB untuk kompatibilitas dengan MediaPipe\n",
    "\n",
    "    # Mendeteksi wajah \n",
    "    results = face_detection.process(rgb_frame)                             # Memproses frame RGB untuk mendeteksi wajah menggunakan detektor wajah yang telah diinisialisasi\n",
    "\n",
    "    # Menerapkan tint biru\n",
    "    blue_tint = cv2.applyColorMap(frame, cv2.COLORMAP_OCEAN)                # Menerapkan tint biru pada frame menggunakan peta warna COLORMAP_OCEAN\n",
    "\n",
    "    # Jika wajah terdeteksi, terapkan efek tambahan\n",
    "    if results.detections:\n",
    "        # Menghitung koordinat dan ukuran bounding box wajah\n",
    "        for detection in results.detections:                                # Iterasi melalui semua deteksi wajah yang ditemukan\n",
    "            bboxC = detection.location_data.relative_bounding_box           # Mendapatkan kotak pembatas relatif dari deteksi wajah\n",
    "            ih, iw, _ = frame.shape                                         # Mendapatkan dimensi frame              \n",
    "            (x, y, w, h) = (int(bboxC.xmin * iw), int(bboxC.ymin * ih),     # Menghitung koordinat dan ukuran bounding box wajah dalam piksel\n",
    "                            int(bboxC.width * iw), int(bboxC.height * ih))  # Mengubah koordinat dan ukuran bounding box dari relatif ke piksel\n",
    "            \n",
    "\n",
    "            # Menerapkan blur ringan pada area wajah (Menerapkan blur Gaussian pada area wajah dan menggantinya di frame asli)\n",
    "            face = frame[y:y+h, x:x+w]                                      # Mendapatkan area wajah dari frame                           \n",
    "            face = cv2.GaussianBlur(face, (99, 99), 30)                     # Menerapkan blur Gaussian pada area wajah\n",
    "            frame[y:y+h, x:x+w] = face                                      # Menggantikan area wajah dengan area wajah yang telah di-blur\n",
    "\n",
    "    return blue_tint    # Mengembalikan frame dengan tint biru  dan efek tambahan yang diterapkan\n",
    "    \n",
    "# Contoh penggunaan dengan file video, menentukan jalur input dan output video\n",
    "input_video_path = 'input_video.mp4'                                        # Menentukan jalur file video input\n",
    "output_video_path = 'output_video.mp4'                                      # Menentukan jalur file video output                          \n",
    "\n",
    "# Memuat video, membuka video input dan menyiapkan video output dengan codec mp4v dan frame rate 30 fps\n",
    "cap = cv2.VideoCapture(input_video_path)                                    # Membuka file video input                 \n",
    "fourcc = cv2.VideoWriter_fourcc(*'mp4v')                                    # Mendefinisikan codec video mp4v\n",
    "out = cv2.VideoWriter(output_video_path, fourcc, 30.0, (int(cap.get(3)), int(cap.get(4))))      # Membuat video output dengan codec mp4v, frame rate 30 fps, dan ukuran frame yang sama dengan video input\n",
    "\n",
    "while cap.isOpened():                                                       # Looping untuk membaca setiap frame dari video input\n",
    "    # Membaca frame dari video\n",
    "    ret, frame = cap.read()                                                 # Membaca frame dari video input\n",
    "    if not ret:                                                             # Jika tidak ada frame yang tersedia, keluar dari loop\n",
    "        break                                                               # Keluar dari loop\n",
    "\n",
    "    # Menerapkan filter oceanic\n",
    "    filtered_frame = apply_oceanic_filter(frame)                            # Menerapkan filter oceanic pada frame\n",
    "\n",
    "    # Menyimpan frame yang telah difilter ke video output\n",
    "    out.write(filtered_frame)                                               # Menyimpan frame yang telah difilter ke video output\n",
    "\n",
    "# Menutup video input dan output\n",
    "cap.release()       \n",
    "out.release()\n",
    "\n",
    "# Memuat dan memproses audio (masih dalam bentuk pengembangan lagi)\n",
    "input_audio_path = 'input_audio.mp3'                # Menentukan jalur file audio input\n",
    "output_audio_path = 'output_audio.mp3'              # Menentukan jalur file audio output\n",
    "audio = AudioSegment.from_file(input_audio_path)    # Memuat file audio input\n",
    "\n",
    "# Menerapkan efek audio (misalnya, reverb, echo)\n",
    "# Menyimpan audio yang telah diproses\n",
    "audio.export(output_audio_path, format='mp3')       # Menyimpan audio yang telah diproses ke file output\n",
    "\n",
    "# Menggabungkan video dan audio\n",
    "video_clip = VideoFileClip(output_video_path)                                       # Memuat file video output                         \n",
    "audio_clip = AudioFileClip(output_audio_path)                                       # Memuat file audio output\n",
    "final_clip = video_clip.set_audio(audio_clip)                                       # Menggabungkan video dan audio menjadi satu file output final\n",
    "final_clip.write_videofile('final_output.mp4', codec='libx264', audio_codec='aac')  # Menggabungkan video dan audio menjadi satu file output final\n"
   ]
  }
 ],
 "metadata": {
  "kernelspec": {
   "display_name": "mulmed_orce",
   "language": "python",
   "name": "python3"
  },
  "language_info": {
   "name": "python",
   "version": "3.10.15"
  }
 },
 "nbformat": 4,
 "nbformat_minor": 2
}
